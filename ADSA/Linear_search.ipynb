{
 "cells": [
  {
   "cell_type": "markdown",
   "id": "7b70bd1e-5c98-4b40-bb7b-68ad5d0f7ec0",
   "metadata": {},
   "source": [
    "# Linear Search"
   ]
  },
  {
   "cell_type": "code",
   "execution_count": 4,
   "id": "023f83cc-a6c2-446b-bcd9-d56e4b6f95e5",
   "metadata": {},
   "outputs": [
    {
     "name": "stdout",
     "output_type": "stream",
     "text": [
      "Found at position:  4\n"
     ]
    }
   ],
   "source": [
    "pos = -1\n",
    "\n",
    "def search(ls, n):\n",
    "    global pos\n",
    "    i = 0\n",
    "    while(i<len(ls)):\n",
    "        if ls[i] == n:\n",
    "            pos = i\n",
    "            return True\n",
    "        i += 1\n",
    "    return False\n",
    "\n",
    "ls = [15, 23, 7, 9, 31, 18]\n",
    "n = 31\n",
    "if search(ls, n):\n",
    "    print(\"Found at position: \", pos)\n",
    "else:\n",
    "    print(\"Not found\")"
   ]
  }
 ],
 "metadata": {
  "kernelspec": {
   "display_name": "Python 3 (ipykernel)",
   "language": "python",
   "name": "python3"
  },
  "language_info": {
   "codemirror_mode": {
    "name": "ipython",
    "version": 3
   },
   "file_extension": ".py",
   "mimetype": "text/x-python",
   "name": "python",
   "nbconvert_exporter": "python",
   "pygments_lexer": "ipython3",
   "version": "3.12.4"
  }
 },
 "nbformat": 4,
 "nbformat_minor": 5
}
