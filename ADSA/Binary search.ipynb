{
 "cells": [
  {
   "cell_type": "code",
   "execution_count": 1,
   "id": "7c93bafb-b184-4af2-92aa-e89360bdf9d6",
   "metadata": {},
   "outputs": [
    {
     "name": "stdout",
     "output_type": "stream",
     "text": [
      "True\n"
     ]
    }
   ],
   "source": [
    "def binary_search(a,value):\n",
    "    if len(a)==0 or (len(a)==1 and a[0]!=value):\n",
    "        return False\n",
    "        \n",
    "    mid=a[len(a)//2]\n",
    "    if value==mid:\n",
    "        return True\n",
    "    if value<mid:\n",
    "        return binary_search(a[:len(a)//2],value)\n",
    "    if value>mid:\n",
    "        return binary_search(a[len(a)//2+1:],value)\n",
    "\n",
    "\n",
    "a=sorted([12, 45, 78, 3, 56, 34, 99, 10, 67])\n",
    "print(binary_search(a,45))"
   ]
  }
 ],
 "metadata": {
  "kernelspec": {
   "display_name": "Python 3 (ipykernel)",
   "language": "python",
   "name": "python3"
  },
  "language_info": {
   "codemirror_mode": {
    "name": "ipython",
    "version": 3
   },
   "file_extension": ".py",
   "mimetype": "text/x-python",
   "name": "python",
   "nbconvert_exporter": "python",
   "pygments_lexer": "ipython3",
   "version": "3.12.4"
  }
 },
 "nbformat": 4,
 "nbformat_minor": 5
}
