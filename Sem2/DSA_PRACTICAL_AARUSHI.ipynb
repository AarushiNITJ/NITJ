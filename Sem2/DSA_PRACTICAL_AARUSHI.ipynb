{
 "cells": [
  {
   "cell_type": "markdown",
   "id": "3ddae922-c0a1-48f5-a594-00853daea39b",
   "metadata": {},
   "source": [
    "## QUESTION 1 - Use a sample MovieLens dataset, compute cosine similarity between items, and suggest 3 alternatives to a movie based on past user ratings."
   ]
  },
  {
   "cell_type": "code",
   "execution_count": 10,
   "id": "99778342-16d9-4bd8-b84e-7e2f9ff36c0c",
   "metadata": {},
   "outputs": [
    {
     "name": "stdout",
     "output_type": "stream",
     "text": [
      "\n",
      "Top 3 alternatives for the movie: Star Wars (1977) (ID: 50)\n",
      "\n",
      "     item_id                            title  similarity_score\n",
      "171      172  Empire Strikes Back, The (1980)          0.884476\n",
      "173      174   Raiders of the Lost Ark (1981)          0.764885\n",
      "180      181        Return of the Jedi (1983)          0.749819\n"
     ]
    }
   ],
   "source": [
    "import pandas as pd\n",
    "from sklearn.metrics.pairwise import cosine_similarity\n",
    "\n",
    "# Step 1: Load Data\n",
    "ratings = pd.read_csv('ml-100k/u.data', sep='\\t', names=['user_id', 'item_id', 'rating', 'timestamp'])\n",
    "\n",
    "movies = pd.read_csv('ml-100k/u.item', sep='|', encoding='latin-1', header=None, usecols=[0, 1], names=['item_id', 'title'])\n",
    "\n",
    "# Step 2: Create a User-Item Matrix\n",
    "user_item_matrix = ratings.pivot_table(index='user_id', columns='item_id', values='rating')\n",
    "\n",
    "# Step 3: Fill missing values with 0\n",
    "item_matrix = user_item_matrix.T.fillna(0)  \n",
    "\n",
    "# Step 4: Compute Cosine Similarity between items\n",
    "similarity_matrix = cosine_similarity(item_matrix)\n",
    "\n",
    "# Step 5: Create a DataFrame for easy lookup\n",
    "similarity_df = pd.DataFrame(similarity_matrix, index=item_matrix.index, columns=item_matrix.index)\n",
    "\n",
    "# Step 6: Define recommendation function\n",
    "def recommend_similar_movies(movie_id, top_n=3):\n",
    "    # Get top N similar items (excluding the item itself)\n",
    "    similar_scores = similarity_df[movie_id].sort_values(ascending=False)[1:top_n+1]\n",
    "    similar_movies = movies[movies['item_id'].isin(similar_scores.index)]\n",
    "    similar_movies = similar_movies.copy()\n",
    "    similar_movies['similarity_score'] = similar_scores.values\n",
    "    return similar_movies\n",
    "\n",
    "# Step 7: Try recommending alternatives for a given movie ID\n",
    "movie_id_to_check = 50  \n",
    "movie_title = movies[movies['item_id'] == movie_id_to_check]['title'].values[0]\n",
    "print(f\"\\nTop 3 alternatives for the movie: {movie_title} (ID: {movie_id_to_check})\\n\")\n",
    "recommendations = recommend_similar_movies(movie_id_to_check)\n",
    "print(recommendations)\n"
   ]
  },
  {
   "cell_type": "markdown",
   "id": "f484a17d-bdbb-42c5-b95c-95d6b2531639",
   "metadata": {},
   "source": [
    "## QUESTION 2 "
   ]
  },
  {
   "cell_type": "code",
   "execution_count": null,
   "id": "5616cafa-1200-4c06-b5df-3be42e87ec4f",
   "metadata": {},
   "outputs": [],
   "source": [
    "#"
   ]
  },
  {
   "cell_type": "code",
   "execution_count": 11,
   "id": "45f19283-ad37-4f54-86ce-c90ef1c03ccd",
   "metadata": {},
   "outputs": [
    {
     "name": "stdout",
     "output_type": "stream",
     "text": [
      "\n",
      "🎬 Top 3 similar movies to 'Star Wars (1977)' WITHOUT normalization:\n",
      "\n",
      "     item_id                            title  similarity_score\n",
      "171      172  Empire Strikes Back, The (1980)          0.884476\n",
      "173      174   Raiders of the Lost Ark (1981)          0.764885\n",
      "180      181        Return of the Jedi (1983)          0.749819\n",
      "\n",
      "🎬 Top 3 similar movies to 'Star Wars (1977)' WITH normalization:\n",
      "\n",
      "     item_id                            title  similarity_score\n",
      "171      172  Empire Strikes Back, The (1980)          0.665330\n",
      "173      174   Raiders of the Lost Ark (1981)          0.639796\n",
      "180      181        Return of the Jedi (1983)          0.564267\n"
     ]
    }
   ],
   "source": [
    "import pandas as pd\n",
    "from sklearn.metrics.pairwise import cosine_similarity\n",
    "\n",
    "# Load ratings and movies data\n",
    "ratings = pd.read_csv('ml-100k/u.data', sep='\\t', names=['user_id', 'item_id', 'rating', 'timestamp'])\n",
    "movies = pd.read_csv('ml-100k/u.item', sep='|', encoding='latin-1', header=None, usecols=[0, 1], names=['item_id', 'title'])\n",
    "\n",
    "# Create User-Item Matrix\n",
    "user_item_matrix = ratings.pivot_table(index='user_id', columns='item_id', values='rating')\n",
    "\n",
    "# WITHOUT NORMALIZATION\n",
    "item_matrix_raw = user_item_matrix.T.fillna(0)\n",
    "cosine_sim_raw = cosine_similarity(item_matrix_raw)\n",
    "sim_df_raw = pd.DataFrame(cosine_sim_raw, index=item_matrix_raw.index, columns=item_matrix_raw.index)\n",
    "\n",
    "def recommend_raw(movie_id, top_n=3):\n",
    "    scores = sim_df_raw[movie_id].sort_values(ascending=False)[1:top_n+1]\n",
    "    recs = movies[movies['item_id'].isin(scores.index)].copy()\n",
    "    recs['similarity_score'] = scores.values\n",
    "    return recs\n",
    "\n",
    "# WITH NORMALIZATION\n",
    "\n",
    "# Subtract each user's mean rating (row-wise)\n",
    "normalized_matrix = user_item_matrix.sub(user_item_matrix.mean(axis=1), axis=0).fillna(0)\n",
    "item_matrix_norm = normalized_matrix.T\n",
    "\n",
    "# Compute similarity\n",
    "cosine_sim_norm = cosine_similarity(item_matrix_norm)\n",
    "sim_df_norm = pd.DataFrame(cosine_sim_norm, index=item_matrix_norm.index, columns=item_matrix_norm.index)\n",
    "\n",
    "def recommend_normalized(movie_id, top_n=3):\n",
    "    scores = sim_df_norm[movie_id].sort_values(ascending=False)[1:top_n+1]\n",
    "    recs = movies[movies['item_id'].isin(scores.index)].copy()\n",
    "    recs['similarity_score'] = scores.values\n",
    "    return recs\n",
    "\n",
    "# Example: Compare Recommendations for a movie\n",
    "\n",
    "movie_id_to_check = 50  # e.g., \"Star Wars (1977)\"\n",
    "movie_title = movies[movies['item_id'] == movie_id_to_check]['title'].values[0]\n",
    "\n",
    "print(f\"\\n🎬 Top 3 similar movies to '{movie_title}' WITHOUT normalization:\\n\")\n",
    "print(recommend_raw(movie_id_to_check))\n",
    "\n",
    "print(f\"\\n🎬 Top 3 similar movies to '{movie_title}' WITH normalization:\\n\")\n",
    "print(recommend_normalized(movie_id_to_check))\n"
   ]
  },
  {
   "cell_type": "markdown",
   "id": "52807ec1-f1da-4756-b73d-a7aa0fd40e4c",
   "metadata": {},
   "source": [
    "## QUESTION 3 "
   ]
  },
  {
   "cell_type": "code",
   "execution_count": 20,
   "id": "73c8aad4-4ffd-40d2-8ea6-7d83936e4c7b",
   "metadata": {},
   "outputs": [],
   "source": [
    "#Create a vertically stacked CountPlot of carb using a dark color palette and Apply rotation to x-axis labels if they overlap. \n",
    "#Dynamically adjust bar width based on the count.\n"
   ]
  },
  {
   "cell_type": "code",
   "execution_count": 18,
   "id": "d7ae8802-e1b8-4ea0-9413-b5753e20df5a",
   "metadata": {},
   "outputs": [
    {
     "data": {
      "image/png": "[encoded data removed]",
      "text/plain": [
       "<Figure size 1000x600 with 1 Axes>"
      ]
     },
     "metadata": {},
     "output_type": "display_data"
    }
   ],
   "source": [
    "import pandas as pd\n",
    "import matplotlib.pyplot as plt\n",
    "import seaborn as sns\n",
    "import numpy as np\n",
    "\n",
    "df = pd.read_csv(r\"C:\\Users\\aarus\\NITJ\\mtcars.csv\") \n",
    "\n",
    "df['carb'] = df['carb'].astype(int)\n",
    "\n",
    "# Count occurrences\n",
    "carb_counts = df['carb'].value_counts().sort_index()\n",
    "carb_values = carb_counts.index\n",
    "counts = carb_counts.values\n",
    "\n",
    "# Dynamic bar widths\n",
    "max_count = counts.max()\n",
    "bar_widths = [0.5 + (count / max_count) * 0.5 for count in counts]\n",
    "\n",
    "# Plot\n",
    "plt.figure(figsize=(10, 6))\n",
    "bars = plt.bar(x=carb_values, height=counts, width=bar_widths,\n",
    "               color=sns.color_palette(\"dark\", len(carb_values)))\n",
    "\n",
    "plt.xlabel(\"Carb\")\n",
    "plt.ylabel(\"Count\")\n",
    "plt.title(\"Vertically Stacked Count of 'carb'\")\n",
    "plt.xticks(ticks=carb_values, labels=carb_values, rotation=45 if len(carb_values) > 5 else 0)\n",
    "\n",
    "plt.tight_layout()\n",
    "plt.show()\n"
   ]
  }
 ],
 "metadata": {
  "kernelspec": {
   "display_name": "Python 3 (ipykernel)",
   "language": "python",
   "name": "python3"
  },
  "language_info": {
   "codemirror_mode": {
    "name": "ipython",
    "version": 3
   },
   "file_extension": ".py",
   "mimetype": "text/x-python",
   "name": "python",
   "nbconvert_exporter": "python",
   "pygments_lexer": "ipython3",
   "version": "3.12.5"
  }
 },
 "nbformat": 4,
 "nbformat_minor": 5
}
