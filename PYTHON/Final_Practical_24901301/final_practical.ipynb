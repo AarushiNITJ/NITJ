{
 "cells": [
  {
   "cell_type": "code",
   "execution_count": 27,
   "id": "d8ecfda3-1d4e-4e46-8083-673c23148c3d",
   "metadata": {},
   "outputs": [
    {
     "name": "stdout",
     "output_type": "stream",
     "text": [
      "    A \n",
      "   A B \n",
      "  A B C \n",
      " A B C D \n",
      "A B C D E \n"
     ]
    }
   ],
   "source": [
    "#Q1 (i) WAP to print the following patterns\n",
    "def print_pattern(rows):\n",
    "    for i in range(1, rows + 1):    #outer loop\n",
    "        print(\" \" * (rows - i), end=\"\")   #printing leading spaces\n",
    "        for j in range(i):      #inner loop\n",
    "            print(chr(65 + j), end=\" \")  # 65 is ASCII for 'A'\n",
    "        print()    #printing the next line\n",
    "\n",
    "rows = 5\n",
    "print_pattern(rows)\n"
   ]
  },
  {
   "cell_type": "code",
   "execution_count": 26,
   "id": "1c9f28a7-811e-4c88-8022-16623a17f084",
   "metadata": {},
   "outputs": [
    {
     "name": "stdout",
     "output_type": "stream",
     "text": [
      "     4\n",
      "     34\n",
      "     234\n",
      "     1234\n",
      "     01234\n",
      "     1234\n",
      "     234\n",
      "     34\n",
      "     4\n"
     ]
    }
   ],
   "source": [
    "#Q1(ii)\n",
    "def print_pattern():   #function definition\n",
    "    for i in range(4, -1, -1):  #outer loop decreasing\n",
    "        print(\" \" * 5, end=\"\")  #add 5 leading spaces\n",
    "        for j in range(i, 5):   #inner loop\n",
    "            print(j, end=\"\")\n",
    "        print()  #print newline\n",
    "\n",
    "    for i in range(1, 5):  #outer loop increasing\n",
    "        print(\" \" * 5, end=\"\") ##add 5 leading spaces\n",
    "        for j in range(i, 5):   #inner loop\n",
    "            print(j, end=\"\")\n",
    "        print()  #print new line\n",
    "\n",
    "print_pattern()\n"
   ]
  },
  {
   "cell_type": "code",
   "execution_count": 25,
   "id": "e9dc0d37-fd7a-404b-9e03-5ade2f2a5101",
   "metadata": {},
   "outputs": [
    {
     "name": "stdin",
     "output_type": "stream",
     "text": [
      "Enter a list of integers separated by space:  1 2 3 4 5 6\n"
     ]
    },
    {
     "name": "stdout",
     "output_type": "stream",
     "text": [
      "Rearranged list: [2, 4, 6, 1, 3, 5]\n"
     ]
    }
   ],
   "source": [
    "#Q3 WAP to accept a list of integers from the user and rearrange the list such that all even numbers come before odd numbers \n",
    "# while maintaining the relative order\n",
    "\n",
    "def rearrange_even_odd(numbers):   #function definition\n",
    "    evens = [num for num in numbers if num % 2 == 0]  #list comprehension to separate evens and odds\n",
    "    odds = [num for num in numbers if num % 2 != 0]\n",
    "    \n",
    "    rearranged_list = evens + odds  #combine evens and odds\n",
    "    return rearranged_list   \n",
    "\n",
    "input_numbers = input(\"Enter a list of integers separated by space: \")\n",
    "#Convert to List: input_numbers.split() splits the input string into a list of substrings. \n",
    "#map(int, input_numbers.split()) -- converts each substring to an integer. \n",
    "#list(map(int, ...)) creates a list of these integers.\n",
    "\n",
    "numbers = list(map(int, input_numbers.split()))    \n",
    "\n",
    "result = rearrange_even_odd(numbers)   #functi\n",
    "\n",
    "print(\"Rearranged list:\", result)\n"
   ]
  },
  {
   "cell_type": "code",
   "execution_count": 17,
   "id": "d7331ee9-39fb-4894-8711-2a87a25bea0f",
   "metadata": {},
   "outputs": [],
   "source": [
    "#Q2 WAP that writes data to a file in such a way that each character after a full stop is capitalized and all the numbers are written in brackets\n",
    "def process_text(input_file, output_file):    #function definition\n",
    "    with open(input_file, 'r') as file:    #read input file\n",
    "        text = file.read()\n",
    "\n",
    "    # Initialize variables for processed text\n",
    "    processed_text = ''\n",
    "    capitalize_next = True\n",
    "\n",
    "    for char in text:\n",
    "        if capitalize_next and char.isalpha():\n",
    "            processed_text += char.upper()\n",
    "            capitalize_next = False\n",
    "        else:\n",
    "            processed_text += char\n",
    "\n",
    "        if char == '.':\n",
    "            capitalize_next = True\n",
    "\n",
    "    # Replace numbers with brackets\n",
    "    processed_text = ''.join(f'[{char}]' if char.isdigit() else char for char in processed_text)\n",
    "\n",
    "    # Write to output file\n",
    "    with open(output_file, 'w') as file:\n",
    "        file.write(processed_text)\n",
    "\n",
    "input_file = 'input.txt'\n",
    "output_file = 'output.txt'\n",
    "process_text(input_file, output_file)   #function calling\n"
   ]
  },
  {
   "cell_type": "code",
   "execution_count": null,
   "id": "9efa7195-192e-4f4b-a045-b59f6587650e",
   "metadata": {},
   "outputs": [],
   "source": []
  }
 ],
 "metadata": {
  "kernelspec": {
   "display_name": "Python 3 (ipykernel)",
   "language": "python",
   "name": "python3"
  },
  "language_info": {
   "codemirror_mode": {
    "name": "ipython",
    "version": 3
   },
   "file_extension": ".py",
   "mimetype": "text/x-python",
   "name": "python",
   "nbconvert_exporter": "python",
   "pygments_lexer": "ipython3",
   "version": "3.12.4"
  }
 },
 "nbformat": 4,
 "nbformat_minor": 5
}
