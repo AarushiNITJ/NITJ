{
 "cells": [
  {
   "cell_type": "code",
   "execution_count": 2,
   "id": "67b432f0-d50b-4273-aee0-c27c0e6701be",
   "metadata": {},
   "outputs": [
    {
     "name": "stdout",
     "output_type": "stream",
     "text": [
      "Aarushi\n",
      "1\n",
      "2\n",
      "3\n"
     ]
    }
   ],
   "source": [
    "#WAP that uses class to store name and marks of students. Use lists to store marks in 3 subjects\n",
    "\n",
    "class students():\n",
    "    def __init__(self,name,marks):\n",
    "        self.name=name\n",
    "        self.marks=marks\n",
    "name=\"Aarushi\"\n",
    "marks_list=[1,2,3]\n",
    "obj=students(name,marks_list)\n",
    "print(obj.name)\n",
    "print(obj.marks[0])\n",
    "print(obj.marks[1])\n",
    "print(obj.marks[2])\n",
    "\n",
    "\n",
    "\n",
    "\n"
   ]
  },
  {
   "cell_type": "code",
   "execution_count": 16,
   "id": "32eb7f80-e94d-41af-b883-d792a747cd48",
   "metadata": {},
   "outputs": [
    {
     "name": "stdin",
     "output_type": "stream",
     "text": [
      "Enter marks of Aarushi in sub 1:  10\n",
      "Enter marks of Aarushi in sub 2:  12\n",
      "Enter marks of Aarushi in sub 3:  12\n",
      "Enter marks of jay in sub 1:  13\n",
      "Enter marks of jay in sub 2:  13\n",
      "Enter marks of jay in sub 3:  13\n"
     ]
    },
    {
     "name": "stdout",
     "output_type": "stream",
     "text": [
      "Aarushi [10, 12, 12]\n",
      "jay [13, 13, 13]\n"
     ]
    }
   ],
   "source": [
    "class Students:\n",
    "    def __init__(self,name):\n",
    "        self.name=name\n",
    "        self.marks=[]\n",
    "    def enterMarks(self):\n",
    "        for i in range(3):\n",
    "            m=int(input(\"Enter marks of %s in sub %d: \"%(self.name,i+1)))\n",
    "            self.marks.append(m)\n",
    "\n",
    "    def display(self):\n",
    "        print(self.name,self.marks)\n",
    "S1=Students(\"Aarushi\")\n",
    "S1.enterMarks()\n",
    "S2=Students(\"jay\")\n",
    "S2.enterMarks()\n",
    "S1.display()\n",
    "S2.display()"
   ]
  },
  {
   "cell_type": "code",
   "execution_count": 22,
   "id": "822249ed-d609-43e4-ae48-b8392493d773",
   "metadata": {},
   "outputs": [
    {
     "ename": "NameError",
     "evalue": "name 'Employee' is not defined",
     "output_type": "error",
     "traceback": [
      "\u001b[1;31m---------------------------------------------------------------------------\u001b[0m",
      "\u001b[1;31mNameError\u001b[0m                                 Traceback (most recent call last)",
      "Cell \u001b[1;32mIn[22], line 3\u001b[0m\n\u001b[0;32m      1\u001b[0m \u001b[38;5;66;03m#WAP with class Employee that keeps a track of the number of employees in an organization and also stores their name, designation and salary details \u001b[39;00m\n\u001b[1;32m----> 3\u001b[0m \u001b[38;5;28;43;01mclass\u001b[39;49;00m\u001b[43m \u001b[49m\u001b[38;5;21;43;01mEmployee\u001b[39;49;00m\u001b[43m:\u001b[49m\n\u001b[0;32m      4\u001b[0m \u001b[43m    \u001b[49m\u001b[43mempCount\u001b[49m\u001b[38;5;241;43m=\u001b[39;49m\u001b[38;5;241;43m0\u001b[39;49m\n\u001b[0;32m      5\u001b[0m \u001b[43m    \u001b[49m\u001b[38;5;28;43;01mdef\u001b[39;49;00m\u001b[43m \u001b[49m\u001b[38;5;21;43m__init__\u001b[39;49m\u001b[43m(\u001b[49m\u001b[38;5;28;43mself\u001b[39;49m\u001b[43m,\u001b[49m\u001b[43mname\u001b[49m\u001b[43m,\u001b[49m\u001b[43mdes\u001b[49m\u001b[43m,\u001b[49m\u001b[43msa\u001b[49m\u001b[43m)\u001b[49m\u001b[43m:\u001b[49m\n",
      "Cell \u001b[1;32mIn[22], line 16\u001b[0m, in \u001b[0;36mEmployee\u001b[1;34m()\u001b[0m\n\u001b[0;32m     12\u001b[0m \u001b[38;5;28;01mdef\u001b[39;00m \u001b[38;5;21mdispdetails\u001b[39m(\u001b[38;5;28mself\u001b[39m):\n\u001b[0;32m     13\u001b[0m     \u001b[38;5;28mprint\u001b[39m(\u001b[38;5;124m\"\u001b[39m\u001b[38;5;124mname:\u001b[39m\u001b[38;5;124m\"\u001b[39m,\u001b[38;5;28mself\u001b[39m\u001b[38;5;241m.\u001b[39mname,\n\u001b[0;32m     14\u001b[0m           \u001b[38;5;124m\"\u001b[39m\u001b[38;5;124mdes:\u001b[39m\u001b[38;5;124m\"\u001b[39m,\u001b[38;5;28mself\u001b[39m\u001b[38;5;241m.\u001b[39mdes,\n\u001b[0;32m     15\u001b[0m           \u001b[38;5;124m\"\u001b[39m\u001b[38;5;124msa:\u001b[39m\u001b[38;5;124m\"\u001b[39m,\u001b[38;5;28mself\u001b[39m\u001b[38;5;241m.\u001b[39msa)\n\u001b[1;32m---> 16\u001b[0m e1 \u001b[38;5;241m=\u001b[39m \u001b[43mEmployee\u001b[49m(\u001b[38;5;124m\"\u001b[39m\u001b[38;5;124mAarushi\u001b[39m\u001b[38;5;124m\"\u001b[39m,\u001b[38;5;124m\"\u001b[39m\u001b[38;5;124m___\u001b[39m\u001b[38;5;124m\"\u001b[39m,\u001b[38;5;241m10\u001b[39m,\u001b[38;5;241m000\u001b[39m)\n\u001b[0;32m     17\u001b[0m e1\u001b[38;5;241m.\u001b[39mdisCount()\n\u001b[0;32m     18\u001b[0m e1\u001b[38;5;241m.\u001b[39mdispdetails()\n",
      "\u001b[1;31mNameError\u001b[0m: name 'Employee' is not defined"
     ]
    }
   ],
   "source": [
    "#WAP with class Employee that keeps a track of the number of employees in an organization and also stores their name, designation and salary details \n",
    "\n",
    "class Employee:\n",
    "    empCount=0\n",
    "    def __init__(self,name,des,sa):\n",
    "        self.name=name\n",
    "        self.des=des\n",
    "        self.sa=sa\n",
    "        Employee.empCount+=1\n",
    "    def discount(self): \n",
    "        print(\"The number of employees is %d:\" % Employee.empCount)\n",
    "    def dispdetails(self):\n",
    "        print(\"name:\",self.name,\n",
    "              \"des:\",self.des,\n",
    "              \"sa:\",self.sa)\n",
    "    e1 = Employee(\"Aarushi\",\"___\",10,000)\n",
    "    e1.disCount()\n",
    "    e1.dispdetails()\n",
    "\n",
    "\n",
    "\n",
    "\n",
    "\n",
    "\n"
   ]
  },
  {
   "cell_type": "code",
   "execution_count": 29,
   "id": "fed8a96f-96ce-4b78-abe3-9a423796646c",
   "metadata": {},
   "outputs": [
    {
     "name": "stdout",
     "output_type": "stream",
     "text": [
      "\n",
      "Enter radius: 7\n",
      "Enter area: 153.86\n",
      "Enter circumference: 43.96\n"
     ]
    }
   ],
   "source": [
    "#WAP that has a class circle. Use a class variable to define the value of constant pi, then use this class variable to calculate area and circumference with\n",
    "#specified radius\n",
    "\n",
    "class Circle:\n",
    "    def __init__(self,radius):\n",
    "        self.radius=radius\n",
    "        self.area=0\n",
    "        self.circumference=0\n",
    "        self.pi=3.14\n",
    "    def calcArea(self): \n",
    "        self.area=self.pi * self.radius * self.radius\n",
    "    def calcCircumference(self): \n",
    "        self.circumference = 2* self.pi * self.radius\n",
    "\n",
    "    def printDetails(self):\n",
    "        print()\n",
    "        print(\"Enter radius:\",self.radius)\n",
    "        print(\"Enter area:\",self.area)\n",
    "        print(\"Enter circumference:\",self.circumference)\n",
    "\n",
    "c1=Circle(7)\n",
    "c1.calcArea()\n",
    "c1.calcCircumference()\n",
    "\n",
    "c1.printDetails()\n",
    "    \n",
    "        "
   ]
  },
  {
   "cell_type": "code",
   "execution_count": null,
   "id": "610aff7c-43b9-4ddb-b141-ca163077ab57",
   "metadata": {},
   "outputs": [],
   "source": [
    "#HW\n",
    "#Write a menu driven program that keeps record of books and journals available in a library\n",
    "\n",
    "class Book:\n",
    "    def__init__(title,author,\n",
    "\n",
    "                def read"
   ]
  }
 ],
 "metadata": {
  "kernelspec": {
   "display_name": "Python 3 (ipykernel)",
   "language": "python",
   "name": "python3"
  },
  "language_info": {
   "codemirror_mode": {
    "name": "ipython",
    "version": 3
   },
   "file_extension": ".py",
   "mimetype": "text/x-python",
   "name": "python",
   "nbconvert_exporter": "python",
   "pygments_lexer": "ipython3",
   "version": "3.12.4"
  }
 },
 "nbformat": 4,
 "nbformat_minor": 5
}
