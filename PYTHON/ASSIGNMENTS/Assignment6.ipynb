{
 "cells": [
  {
   "cell_type": "code",
   "execution_count": 2,
   "id": "53c63cad-2943-47a9-bfc4-a7494d244908",
   "metadata": {},
   "outputs": [
    {
     "name": "stdin",
     "output_type": "stream",
     "text": [
      "Enter numerator:  4\n",
      "Enter denominator:  16\n"
     ]
    },
    {
     "name": "stdout",
     "output_type": "stream",
     "text": [
      "Simplified Fraction: 1/4\n"
     ]
    }
   ],
   "source": [
    "#Q1 - Write a program with a class Fraction with attributes numerator and denominator. Enter\n",
    "#the values of the attributes and print the fraction in simplified form.\n",
    "\n",
    "from math import gcd\n",
    "\n",
    "class Fraction:\n",
    "    def __init__(self, numerator, denominator):\n",
    "        self.numerator = numerator\n",
    "        self.denominator = denominator\n",
    "\n",
    "    def simplify(self):\n",
    "        common_divisor = gcd(self.numerator, self.denominator)\n",
    "        self.numerator //= common_divisor\n",
    "        self.denominator //= common_divisor\n",
    "        return self\n",
    "\n",
    "    def display(self):\n",
    "        print(f\"Simplified Fraction: {self.numerator}/{self.denominator}\")\n",
    "\n",
    "num = int(input(\"Enter numerator: \"))\n",
    "den = int(input(\"Enter denominator: \"))\n",
    "fraction = Fraction(num, den).simplify()\n",
    "fraction.display()"
   ]
  },
  {
   "cell_type": "code",
   "execution_count": 4,
   "id": "604633ad-53ea-4de0-81aa-298715a10137",
   "metadata": {},
   "outputs": [
    {
     "name": "stdout",
     "output_type": "stream",
     "text": [
      "Product Menu:\n",
      "Code: 101, Name: Apple, Price: 10\n",
      "Code: 102, Name: Banana, Price: 5\n",
      "Code: 103, Name: Orange, Price: 8\n"
     ]
    },
    {
     "name": "stdin",
     "output_type": "stream",
     "text": [
      "Enter product code (or 'done' to finish):  101\n",
      "Enter quantity:  3\n",
      "Enter product code (or 'done' to finish):  done\n"
     ]
    },
    {
     "name": "stdout",
     "output_type": "stream",
     "text": [
      "\n",
      "Bill Details:\n",
      "Apple x 3 = 30\n",
      "Total Amount: 30\n"
     ]
    }
   ],
   "source": [
    "#Q2 - Write a program with a class store that keeps record of each product's code and price. Display a menu of all products to the user \n",
    "#and prompt him to enter the quantity of each item required. Generate a bill and display the total amount.\n",
    "\n",
    "class Store:\n",
    "    def __init__(self):\n",
    "        self.products = {\"101\": {\"name\": \"Apple\", \"price\": 10},\n",
    "                         \"102\": {\"name\": \"Banana\", \"price\": 5},\n",
    "                         \"103\": {\"name\": \"Orange\", \"price\": 8}}\n",
    "        self.cart = {}\n",
    "\n",
    "    def display_menu(self):\n",
    "        print(\"Product Menu:\")\n",
    "        for code, details in self.products.items():\n",
    "            print(f\"Code: {code}, Name: {details['name']}, Price: {details['price']}\")\n",
    "\n",
    "    def add_to_cart(self, code, quantity):\n",
    "        if code in self.products:\n",
    "            self.cart[code] = self.cart.get(code, 0) + quantity\n",
    "        else:\n",
    "            print(\"Invalid product code!\")\n",
    "\n",
    "    def generate_bill(self):\n",
    "        total = 0\n",
    "        print(\"\\nBill Details:\")\n",
    "        for code, quantity in self.cart.items():\n",
    "            product = self.products[code]\n",
    "            cost = product[\"price\"] * quantity\n",
    "            total += cost\n",
    "            print(f\"{product['name']} x {quantity} = {cost}\")\n",
    "        print(f\"Total Amount: {total}\")\n",
    "\n",
    "store = Store()\n",
    "store.display_menu()\n",
    "while True:\n",
    "    code = input(\"Enter product code (or 'done' to finish): \")\n",
    "    if code.lower() == \"done\":\n",
    "        break\n",
    "    quantity = int(input(\"Enter quantity: \"))\n",
    "    store.add_to_cart(code, quantity)\n",
    "store.generate_bill()\n"
   ]
  },
  {
   "cell_type": "code",
   "execution_count": 5,
   "id": "ba1837ad-6f5f-48d4-b477-b7da859cfb04",
   "metadata": {},
   "outputs": [
    {
     "name": "stdin",
     "output_type": "stream",
     "text": [
      "Enter a string:  huy\n"
     ]
    },
    {
     "name": "stdout",
     "output_type": "stream",
     "text": [
      "Uppercase: 0, Vowels: 1, Consonants: 2, Spaces: 0\n"
     ]
    }
   ],
   "source": [
    "#Q3 - Write a class that stores a string and all its status details such as number of uppercase characters, vowels, consonants, spaces etc.\n",
    "\n",
    "class StringStatus:\n",
    "    def __init__(self, input_string):\n",
    "        self.input_string = input_string\n",
    "\n",
    "    def analyze(self):\n",
    "        self.uppercase = sum(1 for c in self.input_string if c.isupper())\n",
    "        self.vowels = sum(1 for c in self.input_string.lower() if c in \"aeiou\")\n",
    "        self.consonants = sum(1 for c in self.input_string.lower() if c.isalpha() and c not in \"aeiou\")\n",
    "        self.spaces = sum(1 for c in self.input_string if c.isspace())\n",
    "\n",
    "    def display_status(self):\n",
    "        print(f\"Uppercase: {self.uppercase}, Vowels: {self.vowels}, Consonants: {self.consonants}, Spaces: {self.spaces}\")\n",
    "\n",
    "input_str = input(\"Enter a string: \")\n",
    "status = StringStatus(input_str)\n",
    "status.analyze()\n",
    "status.display_status()"
   ]
  },
  {
   "cell_type": "code",
   "execution_count": 6,
   "id": "12cf2d27-9dc8-4eda-b931-766a4369b6ff",
   "metadata": {},
   "outputs": [
    {
     "name": "stdout",
     "output_type": "stream",
     "text": [
      "Name: Dr. Smith, Age: 45, Department: Computer Science\n",
      "Publications: AI Research, Machine Learning\n"
     ]
    }
   ],
   "source": [
    "#Q4 -Write a program that has a class person. Inherit a class Faculty from person which also has class Publications.\n",
    "\n",
    "class Person:\n",
    "    def __init__(self, name, age):\n",
    "        self.name = name\n",
    "        self.age = age\n",
    "\n",
    "class Faculty(Person):\n",
    "    def __init__(self, name, age, department):\n",
    "        super().__init__(name, age)\n",
    "        self.department = department\n",
    "\n",
    "class Publications(Faculty):\n",
    "    def __init__(self, name, age, department, publications):\n",
    "        super().__init__(name, age, department)\n",
    "        self.publications = publications\n",
    "\n",
    "    def display(self):\n",
    "        print(f\"Name: {self.name}, Age: {self.age}, Department: {self.department}\")\n",
    "        print(\"Publications:\", \", \".join(self.publications))\n",
    "\n",
    "faculty = Publications(\"Dr. Smith\", 45, \"Computer Science\", [\"AI Research\", \"Machine Learning\"])\n",
    "faculty.display()\n"
   ]
  },
  {
   "cell_type": "code",
   "execution_count": 7,
   "id": "33df6dfe-005e-4f34-8b45-a1e84022b2cb",
   "metadata": {},
   "outputs": [
    {
     "name": "stdout",
     "output_type": "stream",
     "text": [
      "Original Date: 28-02-2024\n",
      "New Date: 04-03-2024\n"
     ]
    }
   ],
   "source": [
    "#Q5 - Write a program that overloads the + operator so that it can add a specified number of days to a given date.\n",
    "\n",
    "import datetime\n",
    "\n",
    "class Date:\n",
    "    def __init__(self, day, month, year):\n",
    "        self.date = datetime.date(year, month, day)\n",
    "\n",
    "    def __add__(self, days):\n",
    "        new_date = self.date + datetime.timedelta(days=days)\n",
    "        return Date(new_date.day, new_date.month, new_date.year)\n",
    "\n",
    "    def __str__(self):\n",
    "        return self.date.strftime(\"%d-%m-%Y\")\n",
    "\n",
    "date = Date(28, 2, 2024)\n",
    "new_date = date + 5\n",
    "print(f\"Original Date: {date}\")\n",
    "print(f\"New Date: {new_date}\")"
   ]
  },
  {
   "cell_type": "code",
   "execution_count": 8,
   "id": "48826664-99ee-46b4-bf56-588e0cb2bf76",
   "metadata": {},
   "outputs": [
    {
     "name": "stdout",
     "output_type": "stream",
     "text": [
      "Initial Distance 1: 150 meters\n",
      "Distance after subtraction: 100 meters\n"
     ]
    }
   ],
   "source": [
    "#Q6 - Write a program to overload -= operator to subtract two Distance objects\n",
    "\n",
    "class Distance:\n",
    "    def __init__(self, meters):\n",
    "        self.meters = meters\n",
    "\n",
    "    def __isub__(self, other):\n",
    "        if isinstance(other, Distance):\n",
    "            self.meters -= other.meters\n",
    "        return self\n",
    "\n",
    "    def __str__(self):\n",
    "        return f\"{self.meters} meters\"\n",
    "\n",
    "dist1 = Distance(150)\n",
    "dist2 = Distance(50)\n",
    "print(f\"Initial Distance 1: {dist1}\")\n",
    "dist1 -= dist2\n",
    "print(f\"Distance after subtraction: {dist1}\")"
   ]
  },
  {
   "cell_type": "code",
   "execution_count": null,
   "id": "5a852eb6-c08b-4938-8417-16f5b8df5572",
   "metadata": {},
   "outputs": [],
   "source": []
  }
 ],
 "metadata": {
  "kernelspec": {
   "display_name": "Python 3 (ipykernel)",
   "language": "python",
   "name": "python3"
  },
  "language_info": {
   "codemirror_mode": {
    "name": "ipython",
    "version": 3
   },
   "file_extension": ".py",
   "mimetype": "text/x-python",
   "name": "python",
   "nbconvert_exporter": "python",
   "pygments_lexer": "ipython3",
   "version": "3.12.4"
  }
 },
 "nbformat": 4,
 "nbformat_minor": 5
}
