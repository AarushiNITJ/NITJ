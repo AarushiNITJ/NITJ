{
 "cells": [
  {
   "cell_type": "code",
   "execution_count": 24,
   "id": "81fecb6b-0b3a-46cb-b309-06b30918987a",
   "metadata": {},
   "outputs": [
    {
     "name": "stdout",
     "output_type": "stream",
     "text": [
      "['H', 'e', 'l', 'l', 'o', ',', ' ', 'W', 'o', 'r', 'l', 'd', '$']\n"
     ]
    }
   ],
   "source": [
    "# Q1- Write a program to extract each character from a string using a regular expression.\n",
    "\n",
    "import re\n",
    "\n",
    "def extract_characters(input_string):\n",
    "    \n",
    "    characters = re.findall(r'.', input_string)\n",
    "    return characters\n",
    "\n",
    "input_string = \"Hello, World$\"\n",
    "result = extract_characters(input_string)\n",
    "print(result)\n"
   ]
  },
  {
   "cell_type": "code",
   "execution_count": 23,
   "id": "3a6e9717-0622-425e-8726-04533d5e0674",
   "metadata": {},
   "outputs": [
    {
     "name": "stdout",
     "output_type": "stream",
     "text": [
      "['Hello', 'World', 'This', 'is', 'me']\n"
     ]
    }
   ],
   "source": [
    "#Q2 - Write a program to extract each word from a string using a regular expression.\n",
    "\n",
    "import re\n",
    "\n",
    "def extract_words(input_string):\n",
    "  \n",
    "    words = re.findall(r'\\b\\w+\\b', input_string)\n",
    "    return words\n",
    "\n",
    "input_string = \"Hello, World! This is me.\"\n",
    "result = extract_words(input_string)\n",
    "print(result)\n"
   ]
  },
  {
   "cell_type": "code",
   "execution_count": 22,
   "id": "d52afff3-6b0d-4949-b065-becb497d9352",
   "metadata": {},
   "outputs": [
    {
     "name": "stdout",
     "output_type": "stream",
     "text": [
      "Hello\n"
     ]
    }
   ],
   "source": [
    "#Q3- Write a program to print the first word of the string.\n",
    "\n",
    "import re\n",
    "\n",
    "def first_word(input_string):\n",
    "    \n",
    "    match = re.search(r'\\b\\w+\\b', input_string)\n",
    "    if match:\n",
    "        return match.group()\n",
    "    return None\n",
    "\n",
    "input_string = \"Hello, World! This is me.\"\n",
    "result = first_word(input_string)\n",
    "print(result)\n"
   ]
  },
  {
   "cell_type": "code",
   "execution_count": 21,
   "id": "4d222581-b546-471a-b5d5-443fae8ae9b1",
   "metadata": {},
   "outputs": [
    {
     "name": "stdout",
     "output_type": "stream",
     "text": [
      "me\n"
     ]
    }
   ],
   "source": [
    "#Q4- Write a program to print the last word of the string.\n",
    "\n",
    "import re\n",
    "\n",
    "def last_word(input_string):\n",
    "   \n",
    "    match = re.search(r'\\b\\w+\\b(?=\\W*$)', input_string)\n",
    "    if match:\n",
    "        return match.group()\n",
    "    return None\n",
    "\n",
    "input_string = \"Hello, World! This is me.\"\n",
    "result = last_word(input_string)\n",
    "print(result)\n"
   ]
  },
  {
   "cell_type": "code",
   "execution_count": 20,
   "id": "c98c1139-1e00-4263-8b9f-d5d8c57c5011",
   "metadata": {},
   "outputs": [
    {
     "name": "stdout",
     "output_type": "stream",
     "text": [
      "He\n",
      "ll\n",
      "o,\n",
      " W\n",
      "or\n",
      "ld\n"
     ]
    }
   ],
   "source": [
    "#Q5- Write the program to print the characters in pairs.\n",
    "\n",
    "def print_character_pairs(input_string):\n",
    "   \n",
    "    pairs = [input_string[i:i+2] for i in range(0, len(input_string), 2)]\n",
    "    for pair in pairs:\n",
    "        print(pair)\n",
    "\n",
    "input_string = \"Hello, World\"\n",
    "print_character_pairs(input_string)\n"
   ]
  },
  {
   "cell_type": "code",
   "execution_count": 19,
   "id": "22526fe1-1067-46c7-93a0-ad3cbeda35c9",
   "metadata": {},
   "outputs": [
    {
     "name": "stdin",
     "output_type": "stream",
     "text": [
      "Enter a sentence:  hi world\n"
     ]
    },
    {
     "name": "stdout",
     "output_type": "stream",
     "text": [
      "hi wo "
     ]
    }
   ],
   "source": [
    "#Q6- Write a program to print only the first two characters of every word.\n",
    "\n",
    "def first_two_chars(sentence):\n",
    "    words = sentence.split()  \n",
    "    for word in words:\n",
    "        print(word[:2], end=\" \") \n",
    "sentence = input(\"Enter a sentence: \")\n",
    "first_two_chars(sentence)"
   ]
  },
  {
   "cell_type": "code",
   "execution_count": 15,
   "id": "49b19a61-43e3-4388-9297-a4f5311a3651",
   "metadata": {},
   "outputs": [
    {
     "name": "stdin",
     "output_type": "stream",
     "text": [
      "Enter a mobile number:  9914552503\n"
     ]
    },
    {
     "name": "stdout",
     "output_type": "stream",
     "text": [
      "Valid mobile number\n"
     ]
    }
   ],
   "source": [
    "#Q7- Write a program that validates a mobile phone number. The number should start with 7, 8, or 9 followed by 9 digits.\n",
    "\n",
    "import re\n",
    "\n",
    "def validate_mobile_number(number):\n",
    "    \n",
    "    pattern = r\"^[789]\\d{9}$\"\n",
    "    if re.match(pattern, number):\n",
    "        return \"Valid mobile number\"\n",
    "    else:\n",
    "        return \"Invalid mobile number\"\n",
    "\n",
    "number = input(\"Enter a mobile number: \")\n",
    "print(validate_mobile_number(number))\n",
    "\n"
   ]
  },
  {
   "cell_type": "code",
   "execution_count": 16,
   "id": "ac97e352-76f0-4af5-b122-d5af4a287d37",
   "metadata": {},
   "outputs": [
    {
     "name": "stdin",
     "output_type": "stream",
     "text": [
      "Enter a sentence:  Hey its aarushi\n"
     ]
    },
    {
     "name": "stdout",
     "output_type": "stream",
     "text": [
      "its aarushi "
     ]
    }
   ],
   "source": [
    "#Q8- Write a program that prints only those words that starts with a vowel.\n",
    "\n",
    "def words_starting_with_vowel(sentence):\n",
    "    vowels = 'AEIOUaeiou'\n",
    "    words = sentence.split()  \n",
    "    for word in words:\n",
    "        if word[0] in vowels:  \n",
    "            print(word, end=\" \")\n",
    "\n",
    "sentence = input(\"Enter a sentence: \")\n",
    "words_starting_with_vowel(sentence)\n"
   ]
  },
  {
   "cell_type": "code",
   "execution_count": 17,
   "id": "99d0dacf-f799-4a24-b91c-6021144855a7",
   "metadata": {},
   "outputs": [
    {
     "name": "stdin",
     "output_type": "stream",
     "text": [
      "Enter a string:  A1-\\\n"
     ]
    },
    {
     "name": "stdout",
     "output_type": "stream",
     "text": [
      "Match found\n"
     ]
    }
   ],
   "source": [
    "#Q9- Write a program that uses a regular expression to match strings which starts with an upper-case character followed by a digit and a ‘- ‘.\n",
    "\n",
    "import re\n",
    "\n",
    "def match_pattern(string):\n",
    "   \n",
    "    pattern = r\"^[A-Z]\\d-\"\n",
    "    if re.match(pattern, string):\n",
    "        return \"Match found\"\n",
    "    else:\n",
    "        return \"No match found\"\n",
    "\n",
    "string = input(\"Enter a string: \")\n",
    "print(match_pattern(string))\n"
   ]
  },
  {
   "cell_type": "code",
   "execution_count": 18,
   "id": "5bc9826c-9667-4b37-b3aa-1073fd0f749e",
   "metadata": {},
   "outputs": [
    {
     "name": "stdin",
     "output_type": "stream",
     "text": [
      "Enter a string:  Hi its me\n",
      "Enter the number of characters to extract:  2\n"
     ]
    },
    {
     "name": "stdout",
     "output_type": "stream",
     "text": [
      "First 2 characters: Hi\n"
     ]
    }
   ],
   "source": [
    "#Q10- Write a program to extract the first n characters of a string.\n",
    "\n",
    "def extract_first_n_chars(string, n):\n",
    "    return string[:n]\n",
    "\n",
    "string = input(\"Enter a string: \")\n",
    "n = int(input(\"Enter the number of characters to extract: \"))\n",
    "print(\"First\", n, \"characters:\", extract_first_n_chars(string, n))\n"
   ]
  },
  {
   "cell_type": "code",
   "execution_count": null,
   "id": "e1357304-7946-4786-ad7d-214c0a9ce3f0",
   "metadata": {},
   "outputs": [],
   "source": []
  }
 ],
 "metadata": {
  "kernelspec": {
   "display_name": "Python 3 (ipykernel)",
   "language": "python",
   "name": "python3"
  },
  "language_info": {
   "codemirror_mode": {
    "name": "ipython",
    "version": 3
   },
   "file_extension": ".py",
   "mimetype": "text/x-python",
   "name": "python",
   "nbconvert_exporter": "python",
   "pygments_lexer": "ipython3",
   "version": "3.12.4"
  }
 },
 "nbformat": 4,
 "nbformat_minor": 5
}
